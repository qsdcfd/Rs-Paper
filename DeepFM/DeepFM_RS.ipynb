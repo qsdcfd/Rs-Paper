{
  "nbformat": 4,
  "nbformat_minor": 0,
  "metadata": {
    "colab": {
      "name": "DeepFM RS",
      "provenance": [],
      "mount_file_id": "1faSTTlkqOXrmjTDMaWs8hteDNNdoUBXo",
      "authorship_tag": "ABX9TyPPmArZvmvtuI+yPF/z7qf8"
    },
    "kernelspec": {
      "name": "python3",
      "display_name": "Python 3"
    },
    "language_info": {
      "name": "python"
    },
    "accelerator": "GPU",
    "gpuClass": "standard"
  },
  "cells": [
    {
      "cell_type": "code",
      "source": [
        "!pip install torchfm\n"
      ],
      "metadata": {
        "id": "LTZrSLl33HZw"
      },
      "execution_count": null,
      "outputs": []
    },
    {
      "cell_type": "code",
      "source": [
        "!git clone'https://github.com/lovit/kmrd'"
      ],
      "metadata": {
        "id": "5H6YUjGY3gvk"
      },
      "execution_count": null,
      "outputs": []
    },
    {
      "cell_type": "code",
      "source": [
        "import pandas as pd\n",
        "import numpy as np\n"
      ],
      "metadata": {
        "id": "PTXC5n3k2GHz"
      },
      "execution_count": null,
      "outputs": []
    },
    {
      "cell_type": "code",
      "source": [
        "import torch\n",
        "import torch.nn.functional as F"
      ],
      "metadata": {
        "id": "erz-R08427Cf"
      },
      "execution_count": null,
      "outputs": []
    },
    {
      "cell_type": "code",
      "source": [
        "## torchfm"
      ],
      "metadata": {
        "id": "jjRZJRFi4ObO"
      },
      "execution_count": null,
      "outputs": []
    },
    {
      "cell_type": "markdown",
      "source": [
        "## Torchfm"
      ],
      "metadata": {
        "id": "qVtGOS5d4QdI"
      }
    },
    {
      "cell_type": "code",
      "source": [
        "class FeaturesLinear(torch.nn.Module):\n",
        "\n",
        "    def __init__(self, field_dims, output_dim=1):\n",
        "        super().__init__()\n",
        "        self.fc = torch.nn.Embedding(sum(field_dims), output_dim)\n",
        "        self.bias = torch.nn.Parameter(torch.zeros((output_dim,)))\n",
        "        self.offsets = np.array((0, *np.cumsum(field_dims)[:-1]), dtype=np.long)\n",
        "\n",
        "    def forward(self, x):\n",
        "        \"\"\"\n",
        "        :param x: Long tensor of size ``(batch_size, num_fields)``\n",
        "        \"\"\"\n",
        "        x = x + x.new_tensor(self.offsets).unsqueeze(0)\n",
        "        return torch.sum(self.fc(x), dim=1) + self.bias\n",
        "\n",
        "\n",
        "class FeaturesEmbedding(torch.nn.Module):\n",
        "\n",
        "    def __init__(self, field_dims, embed_dim):\n",
        "        super().__init__()\n",
        "        self.embedding = torch.nn.Embedding(sum(field_dims), embed_dim)\n",
        "        self.offsets = np.array((0, *np.cumsum(field_dims)[:-1]), dtype=np.long)\n",
        "        torch.nn.init.xavier_uniform_(self.embedding.weight.data)\n",
        "\n",
        "    def forward(self, x):\n",
        "        \"\"\"\n",
        "        :param x: Long tensor of size ``(batch_size, num_fields)``\n",
        "        \"\"\"\n",
        "        x = x + x.new_tensor(self.offsets).unsqueeze(0)\n",
        "        return self.embedding(x)\n",
        "\n",
        "\n",
        "class FactorizationMachine(torch.nn.Module):\n",
        "\n",
        "    def __init__(self, reduce_sum=True):\n",
        "        super().__init__()\n",
        "        self.reduce_sum = reduce_sum\n",
        "\n",
        "    def forward(self, x):\n",
        "        \"\"\"\n",
        "        :param x: Float tensor of size ``(batch_size, num_fields, embed_dim)``\n",
        "        \"\"\"\n",
        "        square_of_sum = torch.sum(x, dim=1) ** 2\n",
        "        sum_of_square = torch.sum(x ** 2, dim=1)\n",
        "        ix = square_of_sum - sum_of_square\n",
        "        if self.reduce_sum:\n",
        "            ix = torch.sum(ix, dim=1, keepdim=True)\n",
        "        return 0.5 * ix\n",
        "\n",
        "\n",
        "class MultiLayerPerceptron(torch.nn.Module):\n",
        "\n",
        "    def __init__(self, input_dim, embed_dims, dropout, output_layer=True):\n",
        "        super().__init__()\n",
        "        layers = list()\n",
        "        for embed_dim in embed_dims:\n",
        "            layers.append(torch.nn.Linear(input_dim, embed_dim))\n",
        "            layers.append(torch.nn.BatchNorm1d(embed_dim))\n",
        "            layers.append(torch.nn.ReLU())\n",
        "            layers.append(torch.nn.Dropout(p=dropout))\n",
        "            input_dim = embed_dim\n",
        "        if output_layer:\n",
        "            layers.append(torch.nn.Linear(input_dim, 1))\n",
        "        self.mlp = torch.nn.Sequential(*layers)\n",
        "\n",
        "    def forward(self, x):\n",
        "        \"\"\"\n",
        "        :param x: Float tensor of size ``(batch_size, embed_dim)``\n",
        "        \"\"\"\n",
        "        return self.mlp(x)\n"
      ],
      "metadata": {
        "id": "hR4e6yXA4EMa"
      },
      "execution_count": null,
      "outputs": []
    },
    {
      "cell_type": "code",
      "source": [
        "\n",
        "class DeepFactorizationMachineModel(torch.nn.Module):\n",
        "    \"\"\"\n",
        "    A pytorch implementation of DeepFM.\n",
        "\n",
        "    Reference:\n",
        "        H Guo, et al. DeepFM: A Factorization-Machine based Neural Network for CTR Prediction, 2017.\n",
        "    \"\"\"\n",
        "\n",
        "    def __init__(self, field_dims, embed_dim, mlp_dims, dropout):\n",
        "        super().__init__()\n",
        "        self.linear = FeaturesLinear(field_dims)\n",
        "        self.fm = FactorizationMachine(reduce_sum=True)\n",
        "        self.embedding = FeaturesEmbedding(field_dims, embed_dim)\n",
        "        self.embed_output_dim = len(field_dims) * embed_dim\n",
        "        self.mlp = MultiLayerPerceptron(self.embed_output_dim, mlp_dims, dropout)\n",
        "\n",
        "    def forward(self, x):\n",
        "        \"\"\"\n",
        "        :param x: Long tensor of size ``(batch_size, num_fields)``\n",
        "        \"\"\"\n",
        "        embed_x = self.embedding(x)\n",
        "        x = self.linear(x) + self.fm(embed_x) + self.mlp(embed_x.view(-1, self.embed_output_dim))\n",
        "        return torch.sigmoid(x.squeeze(1))"
      ],
      "metadata": {
        "id": "F-1AceK54FCY"
      },
      "execution_count": null,
      "outputs": []
    },
    {
      "cell_type": "markdown",
      "source": [
        "## Load dataset and Train model"
      ],
      "metadata": {
        "id": "X8OVCm894KTv"
      }
    },
    {
      "cell_type": "code",
      "source": [
        "data_path = '/content/kmrd/kmr_dataset/datafile/kmrd-small'"
      ],
      "metadata": {
        "id": "rP4_q7323ZaL"
      },
      "execution_count": null,
      "outputs": []
    },
    {
      "cell_type": "code",
      "source": [
        "import torch.utils.data\n",
        "\n",
        "class KMRDDataset(torch.utils.data.Dataset):\n",
        "    def __init__(self, data_path):\n",
        "        data = pd.read_csv(os.path.join(data_path,'rates.csv'))[:10000]\n",
        "        \n",
        "        user_to_index = {original: idx for idx, original in enumerate(data.user.unique())}\n",
        "        movie_to_index = {original: idx for idx, original in enumerate(data.movie.unique())}\n",
        "        data['user'] = data['user'].apply(lambda x: user_to_index[x])\n",
        "        data['movie'] = data['movie'].apply(lambda x: movie_to_index[x])\n",
        "        # [user, movie, rate] -> (user, movie, rate)\n",
        "        data = data.to_numpy()[:, :3]\n",
        "\n",
        "        self.items = data[:, :2].astype(np.int)  # -1 because ID begins from 1\n",
        "        self.targets = self.__preprocess_target(data[:, 2]).astype(np.float32)\n",
        "        self.field_dims = np.max(self.items, axis=0) + 1\n",
        "        self.user_field_idx = np.array((0, ), dtype=np.long)\n",
        "        self.item_field_idx = np.array((1,), dtype=np.long)\n",
        "\n",
        "    def __len__(self):\n",
        "        return self.targets.shape[0]\n",
        "\n",
        "    def __getitem__(self, index):\n",
        "        return self.items[index], self.targets[index]\n",
        "\n",
        "    def __preprocess_target(self, target):\n",
        "        target[target <= 9] = 0\n",
        "        target[target > 9] = 1\n",
        "        return target"
      ],
      "metadata": {
        "id": "6yj2RxwM3vCN"
      },
      "execution_count": null,
      "outputs": []
    },
    {
      "cell_type": "code",
      "source": [
        "import pandas as pd\n",
        "import os\n",
        "dataset = KMRDDataset(data_path=data_path)"
      ],
      "metadata": {
        "id": "GU5O-PH93xan"
      },
      "execution_count": null,
      "outputs": []
    },
    {
      "cell_type": "code",
      "source": [
        "print(dataset.item_field_idx)\n",
        "print(dataset.field_dims)\n",
        "print(sum(dataset.field_dims))\n",
        "print(torch.nn.Embedding(sum(dataset.field_dims), 16))\n",
        "print(torch.nn.Parameter(torch.zeros((1,))))\n",
        "print(np.array((0, *np.cumsum(dataset.field_dims)[:-1]), dtype=np.long))"
      ],
      "metadata": {
        "id": "iHw4m_Wo30Wr"
      },
      "execution_count": null,
      "outputs": []
    },
    {
      "cell_type": "code",
      "source": [
        "train_length = int(len(dataset) * 0.8)\n",
        "valid_length = int(len(dataset) * 0.1)\n",
        "test_length = len(dataset) - train_length - valid_length\n",
        "train_dataset, valid_dataset, test_dataset = torch.utils.data.random_split(\n",
        "    dataset, (train_length, valid_length, test_length))"
      ],
      "metadata": {
        "id": "UQ2oj1hD5G7w"
      },
      "execution_count": null,
      "outputs": []
    },
    {
      "cell_type": "code",
      "source": [
        "from torch.utils.data import DataLoader\n",
        "\n",
        "train_data_loader = DataLoader(train_dataset, batch_size=16)\n",
        "valid_data_loader = DataLoader(valid_dataset, batch_size=16)\n",
        "test_data_loader = DataLoader(test_dataset, batch_size=1)"
      ],
      "metadata": {
        "id": "JPT9d5Ky32dg"
      },
      "execution_count": null,
      "outputs": []
    },
    {
      "cell_type": "code",
      "source": [
        "print(dataset.items)\n",
        "print(dataset.targets)"
      ],
      "metadata": {
        "colab": {
          "base_uri": "https://localhost:8080/"
        },
        "id": "Zd4Jj4W637YZ",
        "outputId": "47c72947-642e-4a09-f253-c3c38a8de2c3"
      },
      "execution_count": null,
      "outputs": [
        {
          "output_type": "stream",
          "name": "stdout",
          "text": [
            "[[  0   0]\n",
            " [  0   1]\n",
            " [  0   2]\n",
            " ...\n",
            " [465  15]\n",
            " [465  15]\n",
            " [465 338]]\n",
            "[0. 0. 0. ... 0. 0. 0.]\n"
          ]
        }
      ]
    },
    {
      "cell_type": "code",
      "source": [
        "model = DeepFactorizationMachineModel(dataset.field_dims, embed_dim=16, mlp_dims=(16, 16), dropout=0.2)\n",
        "model"
      ],
      "metadata": {
        "id": "OLRIc6ON5I8o"
      },
      "execution_count": null,
      "outputs": []
    },
    {
      "cell_type": "code",
      "source": [
        "criterion = torch.nn.BCELoss()\n",
        "optimizer = torch.optim.Adam(params=model.parameters(), lr=0.001, weight_decay=1e-6)"
      ],
      "metadata": {
        "id": "twYjz24O5Yjn"
      },
      "execution_count": null,
      "outputs": []
    },
    {
      "cell_type": "code",
      "source": [
        "import tqdm\n",
        "log_interval = 100\n",
        "\n",
        "model.train()\n",
        "total_loss = 0\n",
        "tk0 = tqdm.tqdm(train_data_loader, smoothing=0, mininterval=1.0)\n",
        "for i, (fields, target) in enumerate(tk0):\n",
        "    # fields, target = fields.to(device), target.to(device)\n",
        "    y = model(fields)\n",
        "    loss = criterion(y, target.float())\n",
        "    model.zero_grad()\n",
        "    loss.backward()\n",
        "    optimizer.step()\n",
        "    total_loss += loss.item()\n",
        "    if (i + 1) % log_interval == 0:\n",
        "        tk0.set_postfix(loss=total_loss / log_interval)\n",
        "        total_loss = 0"
      ],
      "metadata": {
        "colab": {
          "base_uri": "https://localhost:8080/"
        },
        "id": "vHwHD2oq5aQt",
        "outputId": "49197f42-26b9-482a-de0b-0afaf167dfad"
      },
      "execution_count": null,
      "outputs": [
        {
          "output_type": "stream",
          "name": "stderr",
          "text": [
            "100%|██████████| 500/500 [00:01<00:00, 253.88it/s, loss=0.638]\n"
          ]
        }
      ]
    },
    {
      "cell_type": "code",
      "source": [
        ""
      ],
      "metadata": {
        "id": "PJzDh9Wc5fTM"
      },
      "execution_count": null,
      "outputs": []
    }
  ]
}