{
  "nbformat": 4,
  "nbformat_minor": 0,
  "metadata": {
    "colab": {
      "name": "DNN",
      "provenance": [],
      "authorship_tag": "ABX9TyMnPexz3ayw/KLjhF2FGbqB"
    },
    "kernelspec": {
      "name": "python3",
      "display_name": "Python 3"
    },
    "language_info": {
      "name": "python"
    },
    "accelerator": "GPU",
    "gpuClass": "standard"
  },
  "cells": [
    {
      "cell_type": "code",
      "source": [
        "import pandas as pd\n",
        "import numpy as np\n",
        "import os\n",
        "import seaborn as sns\n",
        "import matplotlib.pyplot as plt\n",
        "import tensorflow as tf\n",
        "from tensorflow import keras\n",
        "from tqdm import tqdm"
      ],
      "metadata": {
        "id": "SLhRvotSE0Tk"
      },
      "execution_count": 1,
      "outputs": []
    },
    {
      "cell_type": "code",
      "source": [
        "from keras.models import load_model\n",
        "from sklearn.model_selection import train_test_split\n",
        "from keras.layers import Input, Embedding, Flatten, Dot, Dense, Concatenate\n",
        "from keras.models import Model\n",
        "\n",
        "%matplotlib inline\n",
        "\n"
      ],
      "metadata": {
        "id": "i5HU_rcISsAK"
      },
      "execution_count": 60,
      "outputs": []
    },
    {
      "cell_type": "code",
      "source": [
        "train_x,test_x,train_y,test_y = train_test_split(ratings_df,binary_target)\n"
      ],
      "metadata": {
        "id": "XJ7uibvHW8Jk"
      },
      "execution_count": 64,
      "outputs": []
    },
    {
      "cell_type": "code",
      "source": [
        "model = keras.models.Sequential([\n",
        "    keras.layers.Dense(400,activation=\"relu\"),\n",
        "    #keras.layers.Dropout(0.2),\n",
        "    keras.layers.Dense(400,activation=\"relu\"),\n",
        "    #keras.layers.Dropout(0.2),\n",
        "    keras.layers.Dense(400,activation=\"relu\"),\n",
        "    #keras.layers.Dropout(0.2),\n",
        "    keras.layers.Dense(1,activation = \"sigmoid\"),\n",
        "])"
      ],
      "metadata": {
        "id": "P1HKddZJW8L8"
      },
      "execution_count": 74,
      "outputs": []
    },
    {
      "cell_type": "code",
      "source": [
        "model.compile(loss= keras.losses.binary_crossentropy,\n",
        "             optimizer = keras.optimizers.Adam(0.0001),\n",
        "             metrics=[\n",
        "                 keras.metrics.AUC(),\n",
        "                 keras.metrics.BinaryAccuracy()\n",
        "                     ])"
      ],
      "metadata": {
        "id": "qNPy6o4QW8NJ"
      },
      "execution_count": 77,
      "outputs": []
    },
    {
      "cell_type": "code",
      "source": [
        "history = model.fit(train_x,train_y, epochs = 1,batch_size = 32,\n",
        "         validation_data=(test_x,test_y))"
      ],
      "metadata": {
        "colab": {
          "base_uri": "https://localhost:8080/"
        },
        "id": "oMQ_pa1lW8Of",
        "outputId": "c693d8e6-2ccd-4cab-8a20-08000dc7879b"
      },
      "execution_count": 80,
      "outputs": [
        {
          "output_type": "stream",
          "name": "stdout",
          "text": [
            "23443/23443 [==============================] - 107s 5ms/step - loss: 0.6817 - auc_4: 0.5000 - binary_accuracy: 0.5755 - val_loss: 0.6821 - val_auc_4: 0.5000 - val_binary_accuracy: 0.5742\n"
          ]
        }
      ]
    },
    {
      "cell_type": "code",
      "source": [
        "pd.DataFrame(history.history).plot()\n"
      ],
      "metadata": {
        "id": "NDTybhfoW8Q2"
      },
      "execution_count": null,
      "outputs": []
    },
    {
      "cell_type": "code",
      "source": [
        ""
      ],
      "metadata": {
        "id": "ZRM16ZVjbJjy"
      },
      "execution_count": null,
      "outputs": []
    }
  ]
}